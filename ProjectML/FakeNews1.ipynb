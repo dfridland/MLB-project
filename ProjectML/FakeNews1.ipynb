{
 "cells": [
  {
   "cell_type": "code",
   "execution_count": 1,
   "id": "50b74a4b-6fd5-46c0-8e88-0d2bc00f1f5b",
   "metadata": {},
   "outputs": [],
   "source": [
    "import pandas as pd\n",
    "import dill\n",
    "import numpy as np\n",
    "from sklearn.model_selection import train_test_split\n",
    "from sklearn.base import BaseEstimator, TransformerMixin\n",
    "from sklearn.linear_model import LogisticRegression\n",
    "from sklearn.metrics import confusion_matrix, accuracy_score, classification_report\n",
    "from sklearn.metrics import roc_auc_score, roc_curve, precision_recall_curve\n",
    "from sklearn.metrics import f1_score\n",
    "\n",
    "#working with text\n",
    "from sklearn.feature_extraction.text import TfidfVectorizer\n",
    "\n",
    "#normalizing data\n",
    "from sklearn.preprocessing import StandardScaler\n",
    "\n",
    "#pipeline\n",
    "from sklearn.pipeline import Pipeline, FeatureUnion\n",
    "from sklearn.metrics import precision_score,recall_score\n",
    "\n",
    "#imputer\n",
    "from sklearn.impute import SimpleImputer\n",
    "\n",
    "import sklearn.datasets"
   ]
  },
  {
   "cell_type": "code",
   "execution_count": 2,
   "id": "3cd3e5ce-0c59-4335-b6d8-114e10323be3",
   "metadata": {},
   "outputs": [
    {
     "data": {
      "text/html": [
       "<div>\n",
       "<style scoped>\n",
       "    .dataframe tbody tr th:only-of-type {\n",
       "        vertical-align: middle;\n",
       "    }\n",
       "\n",
       "    .dataframe tbody tr th {\n",
       "        vertical-align: top;\n",
       "    }\n",
       "\n",
       "    .dataframe thead th {\n",
       "        text-align: right;\n",
       "    }\n",
       "</style>\n",
       "<table border=\"1\" class=\"dataframe\">\n",
       "  <thead>\n",
       "    <tr style=\"text-align: right;\">\n",
       "      <th></th>\n",
       "      <th>title</th>\n",
       "      <th>news_url</th>\n",
       "      <th>source_domain</th>\n",
       "      <th>tweet_num</th>\n",
       "      <th>real</th>\n",
       "    </tr>\n",
       "  </thead>\n",
       "  <tbody>\n",
       "    <tr>\n",
       "      <th>0</th>\n",
       "      <td>Kandi Burruss Explodes Over Rape Accusation on...</td>\n",
       "      <td>http://toofab.com/2017/05/08/real-housewives-a...</td>\n",
       "      <td>toofab.com</td>\n",
       "      <td>42</td>\n",
       "      <td>1</td>\n",
       "    </tr>\n",
       "    <tr>\n",
       "      <th>1</th>\n",
       "      <td>People's Choice Awards 2018: The best red carp...</td>\n",
       "      <td>https://www.today.com/style/see-people-s-choic...</td>\n",
       "      <td>www.today.com</td>\n",
       "      <td>0</td>\n",
       "      <td>1</td>\n",
       "    </tr>\n",
       "    <tr>\n",
       "      <th>2</th>\n",
       "      <td>Sophia Bush Sends Sweet Birthday Message to 'O...</td>\n",
       "      <td>https://www.etonline.com/news/220806_sophia_bu...</td>\n",
       "      <td>www.etonline.com</td>\n",
       "      <td>63</td>\n",
       "      <td>1</td>\n",
       "    </tr>\n",
       "  </tbody>\n",
       "</table>\n",
       "</div>"
      ],
      "text/plain": [
       "                                               title  \\\n",
       "0  Kandi Burruss Explodes Over Rape Accusation on...   \n",
       "1  People's Choice Awards 2018: The best red carp...   \n",
       "2  Sophia Bush Sends Sweet Birthday Message to 'O...   \n",
       "\n",
       "                                            news_url     source_domain  \\\n",
       "0  http://toofab.com/2017/05/08/real-housewives-a...        toofab.com   \n",
       "1  https://www.today.com/style/see-people-s-choic...     www.today.com   \n",
       "2  https://www.etonline.com/news/220806_sophia_bu...  www.etonline.com   \n",
       "\n",
       "   tweet_num  real  \n",
       "0         42     1  \n",
       "1          0     1  \n",
       "2         63     1  "
      ]
     },
     "execution_count": 2,
     "metadata": {},
     "output_type": "execute_result"
    }
   ],
   "source": [
    "df = pd.read_csv(\"./FakeNewsNet.csv\")\n",
    "df.head(3)"
   ]
  },
  {
   "cell_type": "code",
   "execution_count": 3,
   "id": "d62d3e8d-fe93-4569-bff0-0cf017d6877b",
   "metadata": {},
   "outputs": [
    {
     "data": {
      "text/plain": [
       "1    17441\n",
       "0     5755\n",
       "Name: real, dtype: int64"
      ]
     },
     "execution_count": 3,
     "metadata": {},
     "output_type": "execute_result"
    }
   ],
   "source": [
    "df['real'].value_counts()"
   ]
  },
  {
   "cell_type": "code",
   "execution_count": 4,
   "id": "8f2465f2-da5a-438b-9743-501d8a888106",
   "metadata": {},
   "outputs": [],
   "source": [
    "X_train, X_test, y_train, y_test = train_test_split(df, df['real'],\n",
    "                                                    test_size=0.33, random_state=42)\n",
    "# save test\n",
    "X_test.to_csv(\"X_test.csv\", index=None)\n",
    "y_test.to_csv(\"y_test.csv\", index=None)\n",
    "\n",
    "# save train\n",
    "X_train.to_csv(\"X_train.csv\", index=None)\n",
    "y_train.to_csv(\"y_train.csv\", index=None)"
   ]
  },
  {
   "cell_type": "code",
   "execution_count": 5,
   "id": "6f8ceef9-78bf-4ff2-a440-df1cc2e63f30",
   "metadata": {},
   "outputs": [
    {
     "name": "stdout",
     "output_type": "stream",
     "text": [
      "<class 'pandas.core.frame.DataFrame'>\n",
      "RangeIndex: 23196 entries, 0 to 23195\n",
      "Data columns (total 5 columns):\n",
      " #   Column         Non-Null Count  Dtype \n",
      "---  ------         --------------  ----- \n",
      " 0   title          23196 non-null  object\n",
      " 1   news_url       22866 non-null  object\n",
      " 2   source_domain  22866 non-null  object\n",
      " 3   tweet_num      23196 non-null  int64 \n",
      " 4   real           23196 non-null  int64 \n",
      "dtypes: int64(2), object(3)\n",
      "memory usage: 906.2+ KB\n"
     ]
    }
   ],
   "source": [
    "df.info()"
   ]
  },
  {
   "cell_type": "code",
   "execution_count": 6,
   "id": "b27316f4-74cb-4e0f-b7cf-f60e36fb474b",
   "metadata": {},
   "outputs": [],
   "source": [
    "class ColumnSelector(BaseEstimator, TransformerMixin):\n",
    "    \"\"\"\n",
    "    Transformer to select a single column from the data frame to perform additional transformations on\n",
    "    \"\"\"\n",
    "    def __init__(self, key):\n",
    "        self.key = key\n",
    "\n",
    "    def fit(self, X, y=None):\n",
    "        return self\n",
    "\n",
    "    def transform(self, X):\n",
    "        return X[self.key]\n",
    "    \n",
    "\n",
    "class TextImputer(BaseEstimator, TransformerMixin):\n",
    "    def __init__(self, key, value):\n",
    "        self.key = key\n",
    "        self.value = value\n",
    "    \n",
    "    def fit(self, X, y=None):\n",
    "        return self\n",
    "    \n",
    "    def transform(self, X):\n",
    "        X[self.key] = X[self.key].fillna(self.value)\n",
    "        return X"
   ]
  },
  {
   "cell_type": "code",
   "execution_count": 7,
   "id": "dd0ef1a4-f176-45a7-b4bc-7f83b0725c8c",
   "metadata": {},
   "outputs": [],
   "source": [
    "features = ['title', 'news_url', 'source_domain']\n",
    "target = 'real'"
   ]
  },
  {
   "cell_type": "code",
   "execution_count": 8,
   "id": "c6e7bfd2-59c0-49a8-a172-1bd375c90fcd",
   "metadata": {},
   "outputs": [],
   "source": [
    "# combine\n",
    "title = Pipeline([\n",
    "                ('imputer', TextImputer('title', '')),\n",
    "                ('selector', ColumnSelector(key='title')),\n",
    "                ('tfidf', TfidfVectorizer())\n",
    "            ])\n",
    "\n",
    "news_url = Pipeline([\n",
    "                ('imputer', TextImputer('news_url', '')),\n",
    "                ('selector', ColumnSelector(key='news_url')),\n",
    "                ('tfidf', TfidfVectorizer())\n",
    "            ])\n",
    "\n",
    "source_domain = Pipeline([\n",
    "                ('imputer', TextImputer('source_domain', '')),\n",
    "                ('selector', ColumnSelector(key='source_domain')),\n",
    "                ('tfidf', TfidfVectorizer())\n",
    "            ])\n",
    "\n",
    "\n",
    "feats = FeatureUnion([('title', title),\n",
    "                      ('news_url', news_url),\n",
    "                      ('source_domain', source_domain)])"
   ]
  },
  {
   "cell_type": "code",
   "execution_count": 9,
   "id": "f88f8f18-5d83-4649-988d-2f623d0db595",
   "metadata": {},
   "outputs": [
    {
     "name": "stdout",
     "output_type": "stream",
     "text": [
      "CPU times: user 2.46 s, sys: 56.8 ms, total: 2.52 s\n",
      "Wall time: 1.41 s\n"
     ]
    },
    {
     "data": {
      "text/html": [
       "<style>#sk-container-id-1 {color: black;background-color: white;}#sk-container-id-1 pre{padding: 0;}#sk-container-id-1 div.sk-toggleable {background-color: white;}#sk-container-id-1 label.sk-toggleable__label {cursor: pointer;display: block;width: 100%;margin-bottom: 0;padding: 0.3em;box-sizing: border-box;text-align: center;}#sk-container-id-1 label.sk-toggleable__label-arrow:before {content: \"▸\";float: left;margin-right: 0.25em;color: #696969;}#sk-container-id-1 label.sk-toggleable__label-arrow:hover:before {color: black;}#sk-container-id-1 div.sk-estimator:hover label.sk-toggleable__label-arrow:before {color: black;}#sk-container-id-1 div.sk-toggleable__content {max-height: 0;max-width: 0;overflow: hidden;text-align: left;background-color: #f0f8ff;}#sk-container-id-1 div.sk-toggleable__content pre {margin: 0.2em;color: black;border-radius: 0.25em;background-color: #f0f8ff;}#sk-container-id-1 input.sk-toggleable__control:checked~div.sk-toggleable__content {max-height: 200px;max-width: 100%;overflow: auto;}#sk-container-id-1 input.sk-toggleable__control:checked~label.sk-toggleable__label-arrow:before {content: \"▾\";}#sk-container-id-1 div.sk-estimator input.sk-toggleable__control:checked~label.sk-toggleable__label {background-color: #d4ebff;}#sk-container-id-1 div.sk-label input.sk-toggleable__control:checked~label.sk-toggleable__label {background-color: #d4ebff;}#sk-container-id-1 input.sk-hidden--visually {border: 0;clip: rect(1px 1px 1px 1px);clip: rect(1px, 1px, 1px, 1px);height: 1px;margin: -1px;overflow: hidden;padding: 0;position: absolute;width: 1px;}#sk-container-id-1 div.sk-estimator {font-family: monospace;background-color: #f0f8ff;border: 1px dotted black;border-radius: 0.25em;box-sizing: border-box;margin-bottom: 0.5em;}#sk-container-id-1 div.sk-estimator:hover {background-color: #d4ebff;}#sk-container-id-1 div.sk-parallel-item::after {content: \"\";width: 100%;border-bottom: 1px solid gray;flex-grow: 1;}#sk-container-id-1 div.sk-label:hover label.sk-toggleable__label {background-color: #d4ebff;}#sk-container-id-1 div.sk-serial::before {content: \"\";position: absolute;border-left: 1px solid gray;box-sizing: border-box;top: 0;bottom: 0;left: 50%;z-index: 0;}#sk-container-id-1 div.sk-serial {display: flex;flex-direction: column;align-items: center;background-color: white;padding-right: 0.2em;padding-left: 0.2em;position: relative;}#sk-container-id-1 div.sk-item {position: relative;z-index: 1;}#sk-container-id-1 div.sk-parallel {display: flex;align-items: stretch;justify-content: center;background-color: white;position: relative;}#sk-container-id-1 div.sk-item::before, #sk-container-id-1 div.sk-parallel-item::before {content: \"\";position: absolute;border-left: 1px solid gray;box-sizing: border-box;top: 0;bottom: 0;left: 50%;z-index: -1;}#sk-container-id-1 div.sk-parallel-item {display: flex;flex-direction: column;z-index: 1;position: relative;background-color: white;}#sk-container-id-1 div.sk-parallel-item:first-child::after {align-self: flex-end;width: 50%;}#sk-container-id-1 div.sk-parallel-item:last-child::after {align-self: flex-start;width: 50%;}#sk-container-id-1 div.sk-parallel-item:only-child::after {width: 0;}#sk-container-id-1 div.sk-dashed-wrapped {border: 1px dashed gray;margin: 0 0.4em 0.5em 0.4em;box-sizing: border-box;padding-bottom: 0.4em;background-color: white;}#sk-container-id-1 div.sk-label label {font-family: monospace;font-weight: bold;display: inline-block;line-height: 1.2em;}#sk-container-id-1 div.sk-label-container {text-align: center;}#sk-container-id-1 div.sk-container {/* jupyter's `normalize.less` sets `[hidden] { display: none; }` but bootstrap.min.css set `[hidden] { display: none !important; }` so we also need the `!important` here to be able to override the default hidden behavior on the sphinx rendered scikit-learn.org. See: https://github.com/scikit-learn/scikit-learn/issues/21755 */display: inline-block !important;position: relative;}#sk-container-id-1 div.sk-text-repr-fallback {display: none;}</style><div id=\"sk-container-id-1\" class=\"sk-top-container\"><div class=\"sk-text-repr-fallback\"><pre>Pipeline(steps=[(&#x27;features&#x27;,\n",
       "                 FeatureUnion(transformer_list=[(&#x27;title&#x27;,\n",
       "                                                 Pipeline(steps=[(&#x27;imputer&#x27;,\n",
       "                                                                  TextImputer(key=&#x27;title&#x27;,\n",
       "                                                                              value=&#x27;&#x27;)),\n",
       "                                                                 (&#x27;selector&#x27;,\n",
       "                                                                  ColumnSelector(key=&#x27;title&#x27;)),\n",
       "                                                                 (&#x27;tfidf&#x27;,\n",
       "                                                                  TfidfVectorizer())])),\n",
       "                                                (&#x27;news_url&#x27;,\n",
       "                                                 Pipeline(steps=[(&#x27;imputer&#x27;,\n",
       "                                                                  TextImputer(key=&#x27;news_url&#x27;,\n",
       "                                                                              value=&#x27;&#x27;)),\n",
       "                                                                 (&#x27;selector&#x27;,\n",
       "                                                                  ColumnSelector(key=&#x27;news_url&#x27;)),\n",
       "                                                                 (&#x27;tfidf&#x27;,\n",
       "                                                                  TfidfVectorizer())])),\n",
       "                                                (&#x27;source_domain&#x27;,\n",
       "                                                 Pipeline(steps=[(&#x27;imputer&#x27;,\n",
       "                                                                  TextImputer(key=&#x27;source_domain&#x27;,\n",
       "                                                                              value=&#x27;&#x27;)),\n",
       "                                                                 (&#x27;selector&#x27;,\n",
       "                                                                  ColumnSelector(key=&#x27;source_domain&#x27;)),\n",
       "                                                                 (&#x27;tfidf&#x27;,\n",
       "                                                                  TfidfVectorizer())]))])),\n",
       "                (&#x27;classifier&#x27;, LogisticRegression())])</pre><b>In a Jupyter environment, please rerun this cell to show the HTML representation or trust the notebook. <br />On GitHub, the HTML representation is unable to render, please try loading this page with nbviewer.org.</b></div><div class=\"sk-container\" hidden><div class=\"sk-item sk-dashed-wrapped\"><div class=\"sk-label-container\"><div class=\"sk-label sk-toggleable\"><input class=\"sk-toggleable__control sk-hidden--visually\" id=\"sk-estimator-id-1\" type=\"checkbox\" ><label for=\"sk-estimator-id-1\" class=\"sk-toggleable__label sk-toggleable__label-arrow\">Pipeline</label><div class=\"sk-toggleable__content\"><pre>Pipeline(steps=[(&#x27;features&#x27;,\n",
       "                 FeatureUnion(transformer_list=[(&#x27;title&#x27;,\n",
       "                                                 Pipeline(steps=[(&#x27;imputer&#x27;,\n",
       "                                                                  TextImputer(key=&#x27;title&#x27;,\n",
       "                                                                              value=&#x27;&#x27;)),\n",
       "                                                                 (&#x27;selector&#x27;,\n",
       "                                                                  ColumnSelector(key=&#x27;title&#x27;)),\n",
       "                                                                 (&#x27;tfidf&#x27;,\n",
       "                                                                  TfidfVectorizer())])),\n",
       "                                                (&#x27;news_url&#x27;,\n",
       "                                                 Pipeline(steps=[(&#x27;imputer&#x27;,\n",
       "                                                                  TextImputer(key=&#x27;news_url&#x27;,\n",
       "                                                                              value=&#x27;&#x27;)),\n",
       "                                                                 (&#x27;selector&#x27;,\n",
       "                                                                  ColumnSelector(key=&#x27;news_url&#x27;)),\n",
       "                                                                 (&#x27;tfidf&#x27;,\n",
       "                                                                  TfidfVectorizer())])),\n",
       "                                                (&#x27;source_domain&#x27;,\n",
       "                                                 Pipeline(steps=[(&#x27;imputer&#x27;,\n",
       "                                                                  TextImputer(key=&#x27;source_domain&#x27;,\n",
       "                                                                              value=&#x27;&#x27;)),\n",
       "                                                                 (&#x27;selector&#x27;,\n",
       "                                                                  ColumnSelector(key=&#x27;source_domain&#x27;)),\n",
       "                                                                 (&#x27;tfidf&#x27;,\n",
       "                                                                  TfidfVectorizer())]))])),\n",
       "                (&#x27;classifier&#x27;, LogisticRegression())])</pre></div></div></div><div class=\"sk-serial\"><div class=\"sk-item sk-dashed-wrapped\"><div class=\"sk-label-container\"><div class=\"sk-label sk-toggleable\"><input class=\"sk-toggleable__control sk-hidden--visually\" id=\"sk-estimator-id-2\" type=\"checkbox\" ><label for=\"sk-estimator-id-2\" class=\"sk-toggleable__label sk-toggleable__label-arrow\">features: FeatureUnion</label><div class=\"sk-toggleable__content\"><pre>FeatureUnion(transformer_list=[(&#x27;title&#x27;,\n",
       "                                Pipeline(steps=[(&#x27;imputer&#x27;,\n",
       "                                                 TextImputer(key=&#x27;title&#x27;,\n",
       "                                                             value=&#x27;&#x27;)),\n",
       "                                                (&#x27;selector&#x27;,\n",
       "                                                 ColumnSelector(key=&#x27;title&#x27;)),\n",
       "                                                (&#x27;tfidf&#x27;, TfidfVectorizer())])),\n",
       "                               (&#x27;news_url&#x27;,\n",
       "                                Pipeline(steps=[(&#x27;imputer&#x27;,\n",
       "                                                 TextImputer(key=&#x27;news_url&#x27;,\n",
       "                                                             value=&#x27;&#x27;)),\n",
       "                                                (&#x27;selector&#x27;,\n",
       "                                                 ColumnSelector(key=&#x27;news_url&#x27;)),\n",
       "                                                (&#x27;tfidf&#x27;, TfidfVectorizer())])),\n",
       "                               (&#x27;source_domain&#x27;,\n",
       "                                Pipeline(steps=[(&#x27;imputer&#x27;,\n",
       "                                                 TextImputer(key=&#x27;source_domain&#x27;,\n",
       "                                                             value=&#x27;&#x27;)),\n",
       "                                                (&#x27;selector&#x27;,\n",
       "                                                 ColumnSelector(key=&#x27;source_domain&#x27;)),\n",
       "                                                (&#x27;tfidf&#x27;,\n",
       "                                                 TfidfVectorizer())]))])</pre></div></div></div><div class=\"sk-parallel\"><div class=\"sk-parallel-item\"><div class=\"sk-item\"><div class=\"sk-label-container\"><div class=\"sk-label sk-toggleable\"><label>title</label></div></div><div class=\"sk-serial\"><div class=\"sk-item\"><div class=\"sk-serial\"><div class=\"sk-item\"><div class=\"sk-estimator sk-toggleable\"><input class=\"sk-toggleable__control sk-hidden--visually\" id=\"sk-estimator-id-3\" type=\"checkbox\" ><label for=\"sk-estimator-id-3\" class=\"sk-toggleable__label sk-toggleable__label-arrow\">TextImputer</label><div class=\"sk-toggleable__content\"><pre>TextImputer(key=&#x27;title&#x27;, value=&#x27;&#x27;)</pre></div></div></div><div class=\"sk-item\"><div class=\"sk-estimator sk-toggleable\"><input class=\"sk-toggleable__control sk-hidden--visually\" id=\"sk-estimator-id-4\" type=\"checkbox\" ><label for=\"sk-estimator-id-4\" class=\"sk-toggleable__label sk-toggleable__label-arrow\">ColumnSelector</label><div class=\"sk-toggleable__content\"><pre>ColumnSelector(key=&#x27;title&#x27;)</pre></div></div></div><div class=\"sk-item\"><div class=\"sk-estimator sk-toggleable\"><input class=\"sk-toggleable__control sk-hidden--visually\" id=\"sk-estimator-id-5\" type=\"checkbox\" ><label for=\"sk-estimator-id-5\" class=\"sk-toggleable__label sk-toggleable__label-arrow\">TfidfVectorizer</label><div class=\"sk-toggleable__content\"><pre>TfidfVectorizer()</pre></div></div></div></div></div></div></div></div><div class=\"sk-parallel-item\"><div class=\"sk-item\"><div class=\"sk-label-container\"><div class=\"sk-label sk-toggleable\"><label>news_url</label></div></div><div class=\"sk-serial\"><div class=\"sk-item\"><div class=\"sk-serial\"><div class=\"sk-item\"><div class=\"sk-estimator sk-toggleable\"><input class=\"sk-toggleable__control sk-hidden--visually\" id=\"sk-estimator-id-6\" type=\"checkbox\" ><label for=\"sk-estimator-id-6\" class=\"sk-toggleable__label sk-toggleable__label-arrow\">TextImputer</label><div class=\"sk-toggleable__content\"><pre>TextImputer(key=&#x27;news_url&#x27;, value=&#x27;&#x27;)</pre></div></div></div><div class=\"sk-item\"><div class=\"sk-estimator sk-toggleable\"><input class=\"sk-toggleable__control sk-hidden--visually\" id=\"sk-estimator-id-7\" type=\"checkbox\" ><label for=\"sk-estimator-id-7\" class=\"sk-toggleable__label sk-toggleable__label-arrow\">ColumnSelector</label><div class=\"sk-toggleable__content\"><pre>ColumnSelector(key=&#x27;news_url&#x27;)</pre></div></div></div><div class=\"sk-item\"><div class=\"sk-estimator sk-toggleable\"><input class=\"sk-toggleable__control sk-hidden--visually\" id=\"sk-estimator-id-8\" type=\"checkbox\" ><label for=\"sk-estimator-id-8\" class=\"sk-toggleable__label sk-toggleable__label-arrow\">TfidfVectorizer</label><div class=\"sk-toggleable__content\"><pre>TfidfVectorizer()</pre></div></div></div></div></div></div></div></div><div class=\"sk-parallel-item\"><div class=\"sk-item\"><div class=\"sk-label-container\"><div class=\"sk-label sk-toggleable\"><label>source_domain</label></div></div><div class=\"sk-serial\"><div class=\"sk-item\"><div class=\"sk-serial\"><div class=\"sk-item\"><div class=\"sk-estimator sk-toggleable\"><input class=\"sk-toggleable__control sk-hidden--visually\" id=\"sk-estimator-id-9\" type=\"checkbox\" ><label for=\"sk-estimator-id-9\" class=\"sk-toggleable__label sk-toggleable__label-arrow\">TextImputer</label><div class=\"sk-toggleable__content\"><pre>TextImputer(key=&#x27;source_domain&#x27;, value=&#x27;&#x27;)</pre></div></div></div><div class=\"sk-item\"><div class=\"sk-estimator sk-toggleable\"><input class=\"sk-toggleable__control sk-hidden--visually\" id=\"sk-estimator-id-10\" type=\"checkbox\" ><label for=\"sk-estimator-id-10\" class=\"sk-toggleable__label sk-toggleable__label-arrow\">ColumnSelector</label><div class=\"sk-toggleable__content\"><pre>ColumnSelector(key=&#x27;source_domain&#x27;)</pre></div></div></div><div class=\"sk-item\"><div class=\"sk-estimator sk-toggleable\"><input class=\"sk-toggleable__control sk-hidden--visually\" id=\"sk-estimator-id-11\" type=\"checkbox\" ><label for=\"sk-estimator-id-11\" class=\"sk-toggleable__label sk-toggleable__label-arrow\">TfidfVectorizer</label><div class=\"sk-toggleable__content\"><pre>TfidfVectorizer()</pre></div></div></div></div></div></div></div></div></div></div><div class=\"sk-item\"><div class=\"sk-estimator sk-toggleable\"><input class=\"sk-toggleable__control sk-hidden--visually\" id=\"sk-estimator-id-12\" type=\"checkbox\" ><label for=\"sk-estimator-id-12\" class=\"sk-toggleable__label sk-toggleable__label-arrow\">LogisticRegression</label><div class=\"sk-toggleable__content\"><pre>LogisticRegression()</pre></div></div></div></div></div></div></div>"
      ],
      "text/plain": [
       "Pipeline(steps=[('features',\n",
       "                 FeatureUnion(transformer_list=[('title',\n",
       "                                                 Pipeline(steps=[('imputer',\n",
       "                                                                  TextImputer(key='title',\n",
       "                                                                              value='')),\n",
       "                                                                 ('selector',\n",
       "                                                                  ColumnSelector(key='title')),\n",
       "                                                                 ('tfidf',\n",
       "                                                                  TfidfVectorizer())])),\n",
       "                                                ('news_url',\n",
       "                                                 Pipeline(steps=[('imputer',\n",
       "                                                                  TextImputer(key='news_url',\n",
       "                                                                              value='')),\n",
       "                                                                 ('selector',\n",
       "                                                                  ColumnSelector(key='news_url')),\n",
       "                                                                 ('tfidf',\n",
       "                                                                  TfidfVectorizer())])),\n",
       "                                                ('source_domain',\n",
       "                                                 Pipeline(steps=[('imputer',\n",
       "                                                                  TextImputer(key='source_domain',\n",
       "                                                                              value='')),\n",
       "                                                                 ('selector',\n",
       "                                                                  ColumnSelector(key='source_domain')),\n",
       "                                                                 ('tfidf',\n",
       "                                                                  TfidfVectorizer())]))])),\n",
       "                ('classifier', LogisticRegression())])"
      ]
     },
     "execution_count": 9,
     "metadata": {},
     "output_type": "execute_result"
    }
   ],
   "source": [
    "%%time\n",
    "\n",
    "pipeline = Pipeline([\n",
    "    ('features', feats),\n",
    "    ('classifier', LogisticRegression()),\n",
    "])\n",
    "\n",
    "pipeline.fit(X_train, y_train)"
   ]
  },
  {
   "cell_type": "code",
   "execution_count": 10,
   "id": "1ccc2ee1-8092-4d4a-a5b6-259f3b6a87b5",
   "metadata": {},
   "outputs": [
    {
     "data": {
      "text/plain": [
       "[('features',\n",
       "  FeatureUnion(transformer_list=[('title',\n",
       "                                  Pipeline(steps=[('imputer',\n",
       "                                                   TextImputer(key='title',\n",
       "                                                               value='')),\n",
       "                                                  ('selector',\n",
       "                                                   ColumnSelector(key='title')),\n",
       "                                                  ('tfidf', TfidfVectorizer())])),\n",
       "                                 ('news_url',\n",
       "                                  Pipeline(steps=[('imputer',\n",
       "                                                   TextImputer(key='news_url',\n",
       "                                                               value='')),\n",
       "                                                  ('selector',\n",
       "                                                   ColumnSelector(key='news_url')),\n",
       "                                                  ('tfidf', TfidfVectorizer())])),\n",
       "                                 ('source_domain',\n",
       "                                  Pipeline(steps=[('imputer',\n",
       "                                                   TextImputer(key='source_domain',\n",
       "                                                               value='')),\n",
       "                                                  ('selector',\n",
       "                                                   ColumnSelector(key='source_domain')),\n",
       "                                                  ('tfidf',\n",
       "                                                   TfidfVectorizer())]))])),\n",
       " ('classifier', LogisticRegression())]"
      ]
     },
     "execution_count": 10,
     "metadata": {},
     "output_type": "execute_result"
    }
   ],
   "source": [
    "pipeline.steps"
   ]
  },
  {
   "cell_type": "code",
   "execution_count": 11,
   "id": "118f3d79-6eca-42d9-9797-038513f3f52c",
   "metadata": {},
   "outputs": [],
   "source": [
    "with open(\"logreg_pipeline.dill\", \"wb\") as f:\n",
    "    dill.dump(pipeline, f)"
   ]
  },
  {
   "cell_type": "code",
   "execution_count": 12,
   "id": "679a541c-3699-4fb4-a8ff-986788c62791",
   "metadata": {},
   "outputs": [],
   "source": [
    "X_test = pd.read_csv(\"X_test.csv\")\n",
    "y_test = pd.read_csv(\"y_test.csv\")"
   ]
  },
  {
   "cell_type": "code",
   "execution_count": 13,
   "id": "eced28f2-0f19-4d5e-8765-fdde3c67a791",
   "metadata": {},
   "outputs": [
    {
     "data": {
      "text/html": [
       "<div>\n",
       "<style scoped>\n",
       "    .dataframe tbody tr th:only-of-type {\n",
       "        vertical-align: middle;\n",
       "    }\n",
       "\n",
       "    .dataframe tbody tr th {\n",
       "        vertical-align: top;\n",
       "    }\n",
       "\n",
       "    .dataframe thead th {\n",
       "        text-align: right;\n",
       "    }\n",
       "</style>\n",
       "<table border=\"1\" class=\"dataframe\">\n",
       "  <thead>\n",
       "    <tr style=\"text-align: right;\">\n",
       "      <th></th>\n",
       "      <th>title</th>\n",
       "      <th>news_url</th>\n",
       "      <th>source_domain</th>\n",
       "      <th>tweet_num</th>\n",
       "      <th>real</th>\n",
       "    </tr>\n",
       "  </thead>\n",
       "  <tbody>\n",
       "    <tr>\n",
       "      <th>0</th>\n",
       "      <td>Will Stabler return to 'Law and Order: SVU' fo...</td>\n",
       "      <td>http://www.today.com/popculture/will-stabler-r...</td>\n",
       "      <td>www.today.com</td>\n",
       "      <td>62</td>\n",
       "      <td>1</td>\n",
       "    </tr>\n",
       "    <tr>\n",
       "      <th>1</th>\n",
       "      <td>Travis Barker Survives ‘Really Bad’ Crash with...</td>\n",
       "      <td>http://extratv.com/2018/07/16/travis-barker-su...</td>\n",
       "      <td>extratv.com</td>\n",
       "      <td>46</td>\n",
       "      <td>1</td>\n",
       "    </tr>\n",
       "    <tr>\n",
       "      <th>2</th>\n",
       "      <td>Iggy Azalea's Revenge on Nick Young: I Burned ...</td>\n",
       "      <td>https://www.nbclosangeles.com/entertainment/en...</td>\n",
       "      <td>www.nbclosangeles.com</td>\n",
       "      <td>0</td>\n",
       "      <td>1</td>\n",
       "    </tr>\n",
       "  </tbody>\n",
       "</table>\n",
       "</div>"
      ],
      "text/plain": [
       "                                               title  \\\n",
       "0  Will Stabler return to 'Law and Order: SVU' fo...   \n",
       "1  Travis Barker Survives ‘Really Bad’ Crash with...   \n",
       "2  Iggy Azalea's Revenge on Nick Young: I Burned ...   \n",
       "\n",
       "                                            news_url          source_domain  \\\n",
       "0  http://www.today.com/popculture/will-stabler-r...          www.today.com   \n",
       "1  http://extratv.com/2018/07/16/travis-barker-su...            extratv.com   \n",
       "2  https://www.nbclosangeles.com/entertainment/en...  www.nbclosangeles.com   \n",
       "\n",
       "   tweet_num  real  \n",
       "0         62     1  \n",
       "1         46     1  \n",
       "2          0     1  "
      ]
     },
     "execution_count": 13,
     "metadata": {},
     "output_type": "execute_result"
    }
   ],
   "source": [
    "X_test.head(3)"
   ]
  },
  {
   "cell_type": "code",
   "execution_count": 14,
   "id": "eee2cb95-8ed4-4cc4-a282-edee24ed8e52",
   "metadata": {},
   "outputs": [],
   "source": [
    "with open('logreg_pipeline.dill', 'rb') as in_strm:\n",
    "    pipeline = dill.load(in_strm)"
   ]
  },
  {
   "cell_type": "code",
   "execution_count": 15,
   "id": "ab3261c5-6e49-43b9-8a2e-d73c575c0408",
   "metadata": {},
   "outputs": [
    {
     "data": {
      "text/html": [
       "<style>#sk-container-id-2 {color: black;background-color: white;}#sk-container-id-2 pre{padding: 0;}#sk-container-id-2 div.sk-toggleable {background-color: white;}#sk-container-id-2 label.sk-toggleable__label {cursor: pointer;display: block;width: 100%;margin-bottom: 0;padding: 0.3em;box-sizing: border-box;text-align: center;}#sk-container-id-2 label.sk-toggleable__label-arrow:before {content: \"▸\";float: left;margin-right: 0.25em;color: #696969;}#sk-container-id-2 label.sk-toggleable__label-arrow:hover:before {color: black;}#sk-container-id-2 div.sk-estimator:hover label.sk-toggleable__label-arrow:before {color: black;}#sk-container-id-2 div.sk-toggleable__content {max-height: 0;max-width: 0;overflow: hidden;text-align: left;background-color: #f0f8ff;}#sk-container-id-2 div.sk-toggleable__content pre {margin: 0.2em;color: black;border-radius: 0.25em;background-color: #f0f8ff;}#sk-container-id-2 input.sk-toggleable__control:checked~div.sk-toggleable__content {max-height: 200px;max-width: 100%;overflow: auto;}#sk-container-id-2 input.sk-toggleable__control:checked~label.sk-toggleable__label-arrow:before {content: \"▾\";}#sk-container-id-2 div.sk-estimator input.sk-toggleable__control:checked~label.sk-toggleable__label {background-color: #d4ebff;}#sk-container-id-2 div.sk-label input.sk-toggleable__control:checked~label.sk-toggleable__label {background-color: #d4ebff;}#sk-container-id-2 input.sk-hidden--visually {border: 0;clip: rect(1px 1px 1px 1px);clip: rect(1px, 1px, 1px, 1px);height: 1px;margin: -1px;overflow: hidden;padding: 0;position: absolute;width: 1px;}#sk-container-id-2 div.sk-estimator {font-family: monospace;background-color: #f0f8ff;border: 1px dotted black;border-radius: 0.25em;box-sizing: border-box;margin-bottom: 0.5em;}#sk-container-id-2 div.sk-estimator:hover {background-color: #d4ebff;}#sk-container-id-2 div.sk-parallel-item::after {content: \"\";width: 100%;border-bottom: 1px solid gray;flex-grow: 1;}#sk-container-id-2 div.sk-label:hover label.sk-toggleable__label {background-color: #d4ebff;}#sk-container-id-2 div.sk-serial::before {content: \"\";position: absolute;border-left: 1px solid gray;box-sizing: border-box;top: 0;bottom: 0;left: 50%;z-index: 0;}#sk-container-id-2 div.sk-serial {display: flex;flex-direction: column;align-items: center;background-color: white;padding-right: 0.2em;padding-left: 0.2em;position: relative;}#sk-container-id-2 div.sk-item {position: relative;z-index: 1;}#sk-container-id-2 div.sk-parallel {display: flex;align-items: stretch;justify-content: center;background-color: white;position: relative;}#sk-container-id-2 div.sk-item::before, #sk-container-id-2 div.sk-parallel-item::before {content: \"\";position: absolute;border-left: 1px solid gray;box-sizing: border-box;top: 0;bottom: 0;left: 50%;z-index: -1;}#sk-container-id-2 div.sk-parallel-item {display: flex;flex-direction: column;z-index: 1;position: relative;background-color: white;}#sk-container-id-2 div.sk-parallel-item:first-child::after {align-self: flex-end;width: 50%;}#sk-container-id-2 div.sk-parallel-item:last-child::after {align-self: flex-start;width: 50%;}#sk-container-id-2 div.sk-parallel-item:only-child::after {width: 0;}#sk-container-id-2 div.sk-dashed-wrapped {border: 1px dashed gray;margin: 0 0.4em 0.5em 0.4em;box-sizing: border-box;padding-bottom: 0.4em;background-color: white;}#sk-container-id-2 div.sk-label label {font-family: monospace;font-weight: bold;display: inline-block;line-height: 1.2em;}#sk-container-id-2 div.sk-label-container {text-align: center;}#sk-container-id-2 div.sk-container {/* jupyter's `normalize.less` sets `[hidden] { display: none; }` but bootstrap.min.css set `[hidden] { display: none !important; }` so we also need the `!important` here to be able to override the default hidden behavior on the sphinx rendered scikit-learn.org. See: https://github.com/scikit-learn/scikit-learn/issues/21755 */display: inline-block !important;position: relative;}#sk-container-id-2 div.sk-text-repr-fallback {display: none;}</style><div id=\"sk-container-id-2\" class=\"sk-top-container\"><div class=\"sk-text-repr-fallback\"><pre>Pipeline(steps=[(&#x27;features&#x27;,\n",
       "                 FeatureUnion(transformer_list=[(&#x27;title&#x27;,\n",
       "                                                 Pipeline(steps=[(&#x27;imputer&#x27;,\n",
       "                                                                  TextImputer(key=&#x27;title&#x27;,\n",
       "                                                                              value=&#x27;&#x27;)),\n",
       "                                                                 (&#x27;selector&#x27;,\n",
       "                                                                  ColumnSelector(key=&#x27;title&#x27;)),\n",
       "                                                                 (&#x27;tfidf&#x27;,\n",
       "                                                                  TfidfVectorizer())])),\n",
       "                                                (&#x27;news_url&#x27;,\n",
       "                                                 Pipeline(steps=[(&#x27;imputer&#x27;,\n",
       "                                                                  TextImputer(key=&#x27;news_url&#x27;,\n",
       "                                                                              value=&#x27;&#x27;)),\n",
       "                                                                 (&#x27;selector&#x27;,\n",
       "                                                                  ColumnSelector(key=&#x27;news_url&#x27;)),\n",
       "                                                                 (&#x27;tfidf&#x27;,\n",
       "                                                                  TfidfVectorizer())])),\n",
       "                                                (&#x27;source_domain&#x27;,\n",
       "                                                 Pipeline(steps=[(&#x27;imputer&#x27;,\n",
       "                                                                  TextImputer(key=&#x27;source_domain&#x27;,\n",
       "                                                                              value=&#x27;&#x27;)),\n",
       "                                                                 (&#x27;selector&#x27;,\n",
       "                                                                  ColumnSelector(key=&#x27;source_domain&#x27;)),\n",
       "                                                                 (&#x27;tfidf&#x27;,\n",
       "                                                                  TfidfVectorizer())]))])),\n",
       "                (&#x27;classifier&#x27;, LogisticRegression())])</pre><b>In a Jupyter environment, please rerun this cell to show the HTML representation or trust the notebook. <br />On GitHub, the HTML representation is unable to render, please try loading this page with nbviewer.org.</b></div><div class=\"sk-container\" hidden><div class=\"sk-item sk-dashed-wrapped\"><div class=\"sk-label-container\"><div class=\"sk-label sk-toggleable\"><input class=\"sk-toggleable__control sk-hidden--visually\" id=\"sk-estimator-id-13\" type=\"checkbox\" ><label for=\"sk-estimator-id-13\" class=\"sk-toggleable__label sk-toggleable__label-arrow\">Pipeline</label><div class=\"sk-toggleable__content\"><pre>Pipeline(steps=[(&#x27;features&#x27;,\n",
       "                 FeatureUnion(transformer_list=[(&#x27;title&#x27;,\n",
       "                                                 Pipeline(steps=[(&#x27;imputer&#x27;,\n",
       "                                                                  TextImputer(key=&#x27;title&#x27;,\n",
       "                                                                              value=&#x27;&#x27;)),\n",
       "                                                                 (&#x27;selector&#x27;,\n",
       "                                                                  ColumnSelector(key=&#x27;title&#x27;)),\n",
       "                                                                 (&#x27;tfidf&#x27;,\n",
       "                                                                  TfidfVectorizer())])),\n",
       "                                                (&#x27;news_url&#x27;,\n",
       "                                                 Pipeline(steps=[(&#x27;imputer&#x27;,\n",
       "                                                                  TextImputer(key=&#x27;news_url&#x27;,\n",
       "                                                                              value=&#x27;&#x27;)),\n",
       "                                                                 (&#x27;selector&#x27;,\n",
       "                                                                  ColumnSelector(key=&#x27;news_url&#x27;)),\n",
       "                                                                 (&#x27;tfidf&#x27;,\n",
       "                                                                  TfidfVectorizer())])),\n",
       "                                                (&#x27;source_domain&#x27;,\n",
       "                                                 Pipeline(steps=[(&#x27;imputer&#x27;,\n",
       "                                                                  TextImputer(key=&#x27;source_domain&#x27;,\n",
       "                                                                              value=&#x27;&#x27;)),\n",
       "                                                                 (&#x27;selector&#x27;,\n",
       "                                                                  ColumnSelector(key=&#x27;source_domain&#x27;)),\n",
       "                                                                 (&#x27;tfidf&#x27;,\n",
       "                                                                  TfidfVectorizer())]))])),\n",
       "                (&#x27;classifier&#x27;, LogisticRegression())])</pre></div></div></div><div class=\"sk-serial\"><div class=\"sk-item sk-dashed-wrapped\"><div class=\"sk-label-container\"><div class=\"sk-label sk-toggleable\"><input class=\"sk-toggleable__control sk-hidden--visually\" id=\"sk-estimator-id-14\" type=\"checkbox\" ><label for=\"sk-estimator-id-14\" class=\"sk-toggleable__label sk-toggleable__label-arrow\">features: FeatureUnion</label><div class=\"sk-toggleable__content\"><pre>FeatureUnion(transformer_list=[(&#x27;title&#x27;,\n",
       "                                Pipeline(steps=[(&#x27;imputer&#x27;,\n",
       "                                                 TextImputer(key=&#x27;title&#x27;,\n",
       "                                                             value=&#x27;&#x27;)),\n",
       "                                                (&#x27;selector&#x27;,\n",
       "                                                 ColumnSelector(key=&#x27;title&#x27;)),\n",
       "                                                (&#x27;tfidf&#x27;, TfidfVectorizer())])),\n",
       "                               (&#x27;news_url&#x27;,\n",
       "                                Pipeline(steps=[(&#x27;imputer&#x27;,\n",
       "                                                 TextImputer(key=&#x27;news_url&#x27;,\n",
       "                                                             value=&#x27;&#x27;)),\n",
       "                                                (&#x27;selector&#x27;,\n",
       "                                                 ColumnSelector(key=&#x27;news_url&#x27;)),\n",
       "                                                (&#x27;tfidf&#x27;, TfidfVectorizer())])),\n",
       "                               (&#x27;source_domain&#x27;,\n",
       "                                Pipeline(steps=[(&#x27;imputer&#x27;,\n",
       "                                                 TextImputer(key=&#x27;source_domain&#x27;,\n",
       "                                                             value=&#x27;&#x27;)),\n",
       "                                                (&#x27;selector&#x27;,\n",
       "                                                 ColumnSelector(key=&#x27;source_domain&#x27;)),\n",
       "                                                (&#x27;tfidf&#x27;,\n",
       "                                                 TfidfVectorizer())]))])</pre></div></div></div><div class=\"sk-parallel\"><div class=\"sk-parallel-item\"><div class=\"sk-item\"><div class=\"sk-label-container\"><div class=\"sk-label sk-toggleable\"><label>title</label></div></div><div class=\"sk-serial\"><div class=\"sk-item\"><div class=\"sk-serial\"><div class=\"sk-item\"><div class=\"sk-estimator sk-toggleable\"><input class=\"sk-toggleable__control sk-hidden--visually\" id=\"sk-estimator-id-15\" type=\"checkbox\" ><label for=\"sk-estimator-id-15\" class=\"sk-toggleable__label sk-toggleable__label-arrow\">TextImputer</label><div class=\"sk-toggleable__content\"><pre>TextImputer(key=&#x27;title&#x27;, value=&#x27;&#x27;)</pre></div></div></div><div class=\"sk-item\"><div class=\"sk-estimator sk-toggleable\"><input class=\"sk-toggleable__control sk-hidden--visually\" id=\"sk-estimator-id-16\" type=\"checkbox\" ><label for=\"sk-estimator-id-16\" class=\"sk-toggleable__label sk-toggleable__label-arrow\">ColumnSelector</label><div class=\"sk-toggleable__content\"><pre>ColumnSelector(key=&#x27;title&#x27;)</pre></div></div></div><div class=\"sk-item\"><div class=\"sk-estimator sk-toggleable\"><input class=\"sk-toggleable__control sk-hidden--visually\" id=\"sk-estimator-id-17\" type=\"checkbox\" ><label for=\"sk-estimator-id-17\" class=\"sk-toggleable__label sk-toggleable__label-arrow\">TfidfVectorizer</label><div class=\"sk-toggleable__content\"><pre>TfidfVectorizer()</pre></div></div></div></div></div></div></div></div><div class=\"sk-parallel-item\"><div class=\"sk-item\"><div class=\"sk-label-container\"><div class=\"sk-label sk-toggleable\"><label>news_url</label></div></div><div class=\"sk-serial\"><div class=\"sk-item\"><div class=\"sk-serial\"><div class=\"sk-item\"><div class=\"sk-estimator sk-toggleable\"><input class=\"sk-toggleable__control sk-hidden--visually\" id=\"sk-estimator-id-18\" type=\"checkbox\" ><label for=\"sk-estimator-id-18\" class=\"sk-toggleable__label sk-toggleable__label-arrow\">TextImputer</label><div class=\"sk-toggleable__content\"><pre>TextImputer(key=&#x27;news_url&#x27;, value=&#x27;&#x27;)</pre></div></div></div><div class=\"sk-item\"><div class=\"sk-estimator sk-toggleable\"><input class=\"sk-toggleable__control sk-hidden--visually\" id=\"sk-estimator-id-19\" type=\"checkbox\" ><label for=\"sk-estimator-id-19\" class=\"sk-toggleable__label sk-toggleable__label-arrow\">ColumnSelector</label><div class=\"sk-toggleable__content\"><pre>ColumnSelector(key=&#x27;news_url&#x27;)</pre></div></div></div><div class=\"sk-item\"><div class=\"sk-estimator sk-toggleable\"><input class=\"sk-toggleable__control sk-hidden--visually\" id=\"sk-estimator-id-20\" type=\"checkbox\" ><label for=\"sk-estimator-id-20\" class=\"sk-toggleable__label sk-toggleable__label-arrow\">TfidfVectorizer</label><div class=\"sk-toggleable__content\"><pre>TfidfVectorizer()</pre></div></div></div></div></div></div></div></div><div class=\"sk-parallel-item\"><div class=\"sk-item\"><div class=\"sk-label-container\"><div class=\"sk-label sk-toggleable\"><label>source_domain</label></div></div><div class=\"sk-serial\"><div class=\"sk-item\"><div class=\"sk-serial\"><div class=\"sk-item\"><div class=\"sk-estimator sk-toggleable\"><input class=\"sk-toggleable__control sk-hidden--visually\" id=\"sk-estimator-id-21\" type=\"checkbox\" ><label for=\"sk-estimator-id-21\" class=\"sk-toggleable__label sk-toggleable__label-arrow\">TextImputer</label><div class=\"sk-toggleable__content\"><pre>TextImputer(key=&#x27;source_domain&#x27;, value=&#x27;&#x27;)</pre></div></div></div><div class=\"sk-item\"><div class=\"sk-estimator sk-toggleable\"><input class=\"sk-toggleable__control sk-hidden--visually\" id=\"sk-estimator-id-22\" type=\"checkbox\" ><label for=\"sk-estimator-id-22\" class=\"sk-toggleable__label sk-toggleable__label-arrow\">ColumnSelector</label><div class=\"sk-toggleable__content\"><pre>ColumnSelector(key=&#x27;source_domain&#x27;)</pre></div></div></div><div class=\"sk-item\"><div class=\"sk-estimator sk-toggleable\"><input class=\"sk-toggleable__control sk-hidden--visually\" id=\"sk-estimator-id-23\" type=\"checkbox\" ><label for=\"sk-estimator-id-23\" class=\"sk-toggleable__label sk-toggleable__label-arrow\">TfidfVectorizer</label><div class=\"sk-toggleable__content\"><pre>TfidfVectorizer()</pre></div></div></div></div></div></div></div></div></div></div><div class=\"sk-item\"><div class=\"sk-estimator sk-toggleable\"><input class=\"sk-toggleable__control sk-hidden--visually\" id=\"sk-estimator-id-24\" type=\"checkbox\" ><label for=\"sk-estimator-id-24\" class=\"sk-toggleable__label sk-toggleable__label-arrow\">LogisticRegression</label><div class=\"sk-toggleable__content\"><pre>LogisticRegression()</pre></div></div></div></div></div></div></div>"
      ],
      "text/plain": [
       "Pipeline(steps=[('features',\n",
       "                 FeatureUnion(transformer_list=[('title',\n",
       "                                                 Pipeline(steps=[('imputer',\n",
       "                                                                  TextImputer(key='title',\n",
       "                                                                              value='')),\n",
       "                                                                 ('selector',\n",
       "                                                                  ColumnSelector(key='title')),\n",
       "                                                                 ('tfidf',\n",
       "                                                                  TfidfVectorizer())])),\n",
       "                                                ('news_url',\n",
       "                                                 Pipeline(steps=[('imputer',\n",
       "                                                                  TextImputer(key='news_url',\n",
       "                                                                              value='')),\n",
       "                                                                 ('selector',\n",
       "                                                                  ColumnSelector(key='news_url')),\n",
       "                                                                 ('tfidf',\n",
       "                                                                  TfidfVectorizer())])),\n",
       "                                                ('source_domain',\n",
       "                                                 Pipeline(steps=[('imputer',\n",
       "                                                                  TextImputer(key='source_domain',\n",
       "                                                                              value='')),\n",
       "                                                                 ('selector',\n",
       "                                                                  ColumnSelector(key='source_domain')),\n",
       "                                                                 ('tfidf',\n",
       "                                                                  TfidfVectorizer())]))])),\n",
       "                ('classifier', LogisticRegression())])"
      ]
     },
     "execution_count": 15,
     "metadata": {},
     "output_type": "execute_result"
    }
   ],
   "source": [
    "pipeline"
   ]
  },
  {
   "cell_type": "code",
   "execution_count": 16,
   "id": "7af9f467-07ac-45a9-8c56-c9a96a98410f",
   "metadata": {},
   "outputs": [],
   "source": [
    "preds = pipeline.predict_proba(X_test)[:, 1]\n",
    "\n",
    "pred_df = pd.DataFrame({'preds': preds})\n",
    "pred_df.to_csv(\"test_predictions.csv\", index=None)"
   ]
  },
  {
   "cell_type": "code",
   "execution_count": 17,
   "id": "c9f9512f-8ea8-4952-ad63-9e28fabcec80",
   "metadata": {},
   "outputs": [
    {
     "data": {
      "text/plain": [
       "array([0.92735126, 0.88915367, 0.97027552, 0.97112008, 0.85508477,\n",
       "       0.92168461, 0.38245843, 0.92049061, 0.59429108, 0.99547534])"
      ]
     },
     "execution_count": 17,
     "metadata": {},
     "output_type": "execute_result"
    }
   ],
   "source": [
    "preds[:10]"
   ]
  },
  {
   "cell_type": "code",
   "execution_count": 18,
   "id": "24e94a0d-34a2-46b6-b90d-3b23809fe758",
   "metadata": {},
   "outputs": [
    {
     "name": "stdout",
     "output_type": "stream",
     "text": [
      "Best Threshold=0.6542651994945508, F-Score=0.976, Precision=0.967, Recall=0.985\n"
     ]
    }
   ],
   "source": [
    "precision, recall, thresholds = precision_recall_curve(y_test, preds)\n",
    "\n",
    "fscore = (2 * precision * recall) / (precision + recall)\n",
    "# locate the index of the largest f score\n",
    "ix = np.argmax(fscore)\n",
    "print(f'Best Threshold={thresholds[ix]}, F-Score={fscore[ix]:.3f}, Precision={precision[ix]:.3f}, Recall={recall[ix]:.3f}')"
   ]
  },
  {
   "cell_type": "code",
   "execution_count": 19,
   "id": "58182651-7efc-4c7e-81ef-5dc47d3d88dd",
   "metadata": {},
   "outputs": [],
   "source": [
    "from flask import Flask, request, jsonify\n"
   ]
  },
  {
   "cell_type": "code",
   "execution_count": 20,
   "id": "21c16800-f2ec-4171-a3b3-70c68cc678f9",
   "metadata": {},
   "outputs": [],
   "source": [
    "# Загружаем обученные модели\n",
    "with open('logreg_pipeline.dill', 'rb') as in_strm:\n",
    "    model = dill.load(in_strm)"
   ]
  },
  {
   "cell_type": "code",
   "execution_count": 21,
   "id": "0a00d1fc-ce6f-492c-a774-f57aa574d043",
   "metadata": {},
   "outputs": [],
   "source": [
    "X_test = pd.read_csv(\"X_test.csv\")\n",
    "y_test = pd.read_csv(\"y_test.csv\")"
   ]
  },
  {
   "cell_type": "markdown",
   "id": "0e4c6d94-a827-4ac9-9022-feab3d873c0f",
   "metadata": {},
   "source": [
    "# Обработчики и запуск Flask\n",
    "app = Flask(__name__)\n",
    "# run_with_ngrok(app)  # Start ngrok when app is run\n",
    "\n",
    "\n",
    "@app.route(\"/\", methods=[\"GET\"])\n",
    "def general():\n",
    "    return \"Welcome to prediction process\"\n",
    "\n",
    "@app.route('/predict', methods=['POST'])\n",
    "def predict():\n",
    "    data = {\"success\": False}\n",
    "\n",
    "    # ensure an image was properly uploaded to our endpoint\n",
    "    description, company_profile, benefits = \"\", \"\", \"\"\n",
    "    request_json = request.get_json()\n",
    "    \n",
    "    if request_json[\"description\"]:\n",
    "        description = request_json['description']\n",
    "    \n",
    "    if request_json[\"company_profile\"]:\n",
    "        company_profile = request_json['company_profile']\n",
    "                \n",
    "    if request_json[\"benefits\"]:\n",
    "        benefits = request_json['benefits']\n",
    "    \n",
    "    print(description)  \n",
    "    preds = model.predict_proba(pd.DataFrame({\"description\": [description],\n",
    "                                              \"company_profile\": [company_profile],\n",
    "                                              \"benefits\": [benefits]}))\n",
    "    data[\"predictions\"] = preds[:, 1][0]\n",
    "    data[\"description\"] = description\n",
    "        # indicate that the request was a success\n",
    "    data[\"success\"] = True\n",
    "    print('OK')\n",
    "\n",
    "        # return the data dictionary as a JSON response\n",
    "    return jsonify(data)\n",
    "\n",
    "\n",
    "if __name__ == '__main__':\n",
    "    app.run()"
   ]
  },
  {
   "cell_type": "code",
   "execution_count": null,
   "id": "dba918ab-f5f4-4738-965d-8c389f091b86",
   "metadata": {},
   "outputs": [
    {
     "name": "stdout",
     "output_type": "stream",
     "text": [
      " * Serving Flask app '__main__'\n",
      " * Debug mode: off\n"
     ]
    },
    {
     "name": "stderr",
     "output_type": "stream",
     "text": [
      "WARNING: This is a development server. Do not use it in a production deployment. Use a production WSGI server instead.\n",
      " * Running on http://127.0.0.1:5000\n",
      "Press CTRL+C to quit\n",
      "127.0.0.1 - - [28/Nov/2022 22:45:05] \"POST /predict HTTP/1.1\" 200 -\n"
     ]
    },
    {
     "name": "stdout",
     "output_type": "stream",
     "text": [
      "Will Stabler return to 'Law and Order: SVU' for battered Benson?\n",
      "OK\n"
     ]
    },
    {
     "name": "stderr",
     "output_type": "stream",
     "text": [
      "127.0.0.1 - - [28/Nov/2022 22:45:09] \"POST /predict HTTP/1.1\" 200 -\n",
      "127.0.0.1 - - [28/Nov/2022 22:45:09] \"POST /predict HTTP/1.1\" 200 -\n",
      "127.0.0.1 - - [28/Nov/2022 22:45:09] \"POST /predict HTTP/1.1\" 200 -\n",
      "127.0.0.1 - - [28/Nov/2022 22:45:09] \"POST /predict HTTP/1.1\" 200 -\n",
      "127.0.0.1 - - [28/Nov/2022 22:45:09] \"POST /predict HTTP/1.1\" 200 -\n",
      "127.0.0.1 - - [28/Nov/2022 22:45:09] \"POST /predict HTTP/1.1\" 200 -\n",
      "127.0.0.1 - - [28/Nov/2022 22:45:09] \"POST /predict HTTP/1.1\" 200 -\n",
      "127.0.0.1 - - [28/Nov/2022 22:45:09] \"POST /predict HTTP/1.1\" 200 -\n",
      "127.0.0.1 - - [28/Nov/2022 22:45:09] \"POST /predict HTTP/1.1\" 200 -\n",
      "127.0.0.1 - - [28/Nov/2022 22:45:09] \"POST /predict HTTP/1.1\" 200 -\n",
      "127.0.0.1 - - [28/Nov/2022 22:45:09] \"POST /predict HTTP/1.1\" 200 -\n",
      "127.0.0.1 - - [28/Nov/2022 22:45:09] \"POST /predict HTTP/1.1\" 200 -\n"
     ]
    },
    {
     "name": "stdout",
     "output_type": "stream",
     "text": [
      "Will Stabler return to 'Law and Order: SVU' for battered Benson?\n",
      "OK\n",
      "Travis Barker Survives ‘Really Bad’ Crash with School Bus\n",
      "OK\n",
      "Iggy Azalea's Revenge on Nick Young: I Burned All His Clothes\n",
      "OK\n",
      "We have reason to believe a new Justin Timberlake album could be on its way\n",
      "OK\n",
      "23 Times Blake Lively And Ryan Reynolds Trolled Each Other On Social Media\n",
      "OK\n",
      "Is Chris Hemsworth Done Playing Thor After 'Avengers 4'? He's Had Such Mixed Feelings About The Role\n",
      "OK\n",
      "Blac Chyna Suing Kardashian And Family In AllEncompassing Lawsuit\n",
      "OK\n",
      "Rachel Bilson Steps Out After Split From Hayden Christensen\n",
      "OK\n",
      "Spice Girls 'reunion is cancelled again'\n",
      "OK\n",
      "What is your go-to Karaoke song? : AskReddit\n",
      "OK\n",
      "BREAKING: Roy Moore’s Accuser Arrested And Charged With Falsification\n",
      "OK\n",
      "Kylie Jenner and Travis Scott spending quality time together 'before birth of first baby'\n",
      "OK\n"
     ]
    },
    {
     "name": "stderr",
     "output_type": "stream",
     "text": [
      "127.0.0.1 - - [28/Nov/2022 22:45:09] \"POST /predict HTTP/1.1\" 200 -\n",
      "127.0.0.1 - - [28/Nov/2022 22:45:09] \"POST /predict HTTP/1.1\" 200 -\n",
      "127.0.0.1 - - [28/Nov/2022 22:45:09] \"POST /predict HTTP/1.1\" 200 -\n",
      "127.0.0.1 - - [28/Nov/2022 22:45:09] \"POST /predict HTTP/1.1\" 200 -\n",
      "127.0.0.1 - - [28/Nov/2022 22:45:09] \"POST /predict HTTP/1.1\" 200 -\n",
      "127.0.0.1 - - [28/Nov/2022 22:45:09] \"POST /predict HTTP/1.1\" 200 -\n",
      "127.0.0.1 - - [28/Nov/2022 22:45:09] \"POST /predict HTTP/1.1\" 200 -\n",
      "127.0.0.1 - - [28/Nov/2022 22:45:09] \"POST /predict HTTP/1.1\" 200 -\n",
      "127.0.0.1 - - [28/Nov/2022 22:45:09] \"POST /predict HTTP/1.1\" 200 -\n",
      "127.0.0.1 - - [28/Nov/2022 22:45:09] \"POST /predict HTTP/1.1\" 200 -\n",
      "127.0.0.1 - - [28/Nov/2022 22:45:09] \"POST /predict HTTP/1.1\" 200 -\n",
      "127.0.0.1 - - [28/Nov/2022 22:45:09] \"POST /predict HTTP/1.1\" 200 -\n",
      "127.0.0.1 - - [28/Nov/2022 22:45:09] \"POST /predict HTTP/1.1\" 200 -\n",
      "127.0.0.1 - - [28/Nov/2022 22:45:09] \"POST /predict HTTP/1.1\" 200 -\n",
      "127.0.0.1 - - [28/Nov/2022 22:45:09] \"POST /predict HTTP/1.1\" 200 -\n"
     ]
    },
    {
     "name": "stdout",
     "output_type": "stream",
     "text": [
      "B Strong Disaster Relief – Delivering Good\n",
      "OK\n",
      "Is Anthony Scaramucci Dating Katrina Pierson?: Spotted Out Together After He’s Fired By Trump\n",
      "OK\n",
      "Josephine Skriver’s Morning Routine Involves Sweat and a Spoon\n",
      "OK\n",
      "Best Dressed Stars on Cannes Red Carpet 2017\n",
      "OK\n",
      "Angelina Jolie Buys $25 Million L.A. Mansion: Prepping For Wedding? — See Pics Inside\n",
      "OK\n",
      "Michael Bennet for US Senate\n",
      "OK\n",
      "'Black Panther' is the most tweeted about movie ever\n",
      "OK\n",
      "Teresa Giudice is dating businessman, report claims\n",
      "OK\n",
      "Stars Shine at the Palm Springs International Film Festival\n",
      "OK\n",
      "21 things you may not know about Ashley Graham\n",
      "OK\n",
      "Nick Carter's Rape Accuser Melissa Schuman Files Police Report, Investigation Underway\n",
      "OK\n",
      "Gisele and Tom Brady Are Twinning in Matching Suits\n",
      "OK\n",
      "A Complete Timeline of Selena Gomez and Justin Bieber's Relationship\n",
      "OK\n",
      "Mother of Bullied Child Speaks Out Amid Confederate Flag Controversy\n",
      "OK\n",
      "Rob Kardashian’s Daughter Dream Says ”Hi, Dad!” in Sweet Video\n",
      "OK\n"
     ]
    },
    {
     "name": "stderr",
     "output_type": "stream",
     "text": [
      "127.0.0.1 - - [28/Nov/2022 22:45:09] \"POST /predict HTTP/1.1\" 200 -\n",
      "127.0.0.1 - - [28/Nov/2022 22:45:09] \"POST /predict HTTP/1.1\" 200 -\n",
      "127.0.0.1 - - [28/Nov/2022 22:45:09] \"POST /predict HTTP/1.1\" 200 -\n",
      "127.0.0.1 - - [28/Nov/2022 22:45:09] \"POST /predict HTTP/1.1\" 200 -\n",
      "127.0.0.1 - - [28/Nov/2022 22:45:09] \"POST /predict HTTP/1.1\" 200 -\n",
      "127.0.0.1 - - [28/Nov/2022 22:45:10] \"POST /predict HTTP/1.1\" 200 -\n",
      "127.0.0.1 - - [28/Nov/2022 22:45:10] \"POST /predict HTTP/1.1\" 200 -\n",
      "127.0.0.1 - - [28/Nov/2022 22:45:10] \"POST /predict HTTP/1.1\" 200 -\n",
      "127.0.0.1 - - [28/Nov/2022 22:45:10] \"POST /predict HTTP/1.1\" 200 -\n",
      "127.0.0.1 - - [28/Nov/2022 22:45:10] \"POST /predict HTTP/1.1\" 200 -\n",
      "127.0.0.1 - - [28/Nov/2022 22:45:10] \"POST /predict HTTP/1.1\" 200 -\n",
      "127.0.0.1 - - [28/Nov/2022 22:45:10] \"POST /predict HTTP/1.1\" 200 -\n"
     ]
    },
    {
     "name": "stdout",
     "output_type": "stream",
     "text": [
      "Alison Brie Addresses James Franco Allegations at SAG Awards\n",
      "OK\n",
      "Clare Crawley Says She’s in Love After Leaving Bachelor Winter Games — But Who’s the Lucky Guy?\n",
      "OK\n",
      "Keeping Up with the Kardashians\n",
      "OK\n",
      "Meghan Markle ‘Overwhelmed’ By Royal Etiquette — How Harry & The Queen Are Helping\n",
      "OK\n",
      "Will Mama June Maintain Her 300-Pound Weight Loss? Wendy Williams Delivers Her Honest Prediction\n",
      "OK\n",
      "Meghan Markle’s dad Thomas causing royal family problems\n",
      "OK\n",
      "Kim Kardashian & Kanye West Named Their Daughter Elle V. West & Here’s Why\n",
      "OK\n",
      "Khloe Kardashian’s ‘Only Days Away’ From Giving Birth — Will Her Sisters Be In Delivery Room?\n",
      "OK\n",
      "Tom Daley and husband Dustin Lance Black release first photos of their baby boy\n",
      "OK\n",
      "Channing Tatum and Jenna Dewan Silence Rumors About Their Split\n",
      "OK\n",
      "Tori Spelling Owes A $220,000 Default Judgement\n",
      "OK\n",
      "Madonna Considering a Move to Rome (Report)\n",
      "OK\n",
      "Women Sharing Stories Of Sexual Assault Helped Laura Dern Identify Her Own\n"
     ]
    },
    {
     "name": "stderr",
     "output_type": "stream",
     "text": [
      "127.0.0.1 - - [28/Nov/2022 22:45:10] \"POST /predict HTTP/1.1\" 200 -\n",
      "127.0.0.1 - - [28/Nov/2022 22:45:10] \"POST /predict HTTP/1.1\" 200 -\n",
      "127.0.0.1 - - [28/Nov/2022 22:45:10] \"POST /predict HTTP/1.1\" 200 -\n",
      "127.0.0.1 - - [28/Nov/2022 22:45:10] \"POST /predict HTTP/1.1\" 200 -\n",
      "127.0.0.1 - - [28/Nov/2022 22:45:10] \"POST /predict HTTP/1.1\" 200 -\n",
      "127.0.0.1 - - [28/Nov/2022 22:45:10] \"POST /predict HTTP/1.1\" 200 -\n",
      "127.0.0.1 - - [28/Nov/2022 22:45:10] \"POST /predict HTTP/1.1\" 200 -\n",
      "127.0.0.1 - - [28/Nov/2022 22:45:10] \"POST /predict HTTP/1.1\" 200 -\n",
      "127.0.0.1 - - [28/Nov/2022 22:45:10] \"POST /predict HTTP/1.1\" 200 -\n",
      "127.0.0.1 - - [28/Nov/2022 22:45:10] \"POST /predict HTTP/1.1\" 200 -\n",
      "127.0.0.1 - - [28/Nov/2022 22:45:10] \"POST /predict HTTP/1.1\" 200 -\n"
     ]
    },
    {
     "name": "stdout",
     "output_type": "stream",
     "text": [
      "OK\n",
      "Comic-Con 2017: The Winners and Losers (Photos)\n",
      "OK\n",
      "Palin-Huey\n",
      "OK\n",
      "Did Scott Disick send flowers to both Bella Thorne and Kourtney Kardashian on the same day?\n",
      "OK\n",
      "Have We Noticed That Every Time Drake Dates a Woman He's Not Really Dating Her?\n",
      "OK\n",
      "Channing Tatum  Jenna Dewan Fighting Over Nude Photo  Claim\n",
      "OK\n",
      "S.1591 - 104th Congress (1995-1996): A bill to prohibit campaign expenditures for services of lobbyists, and for other purposes.\n",
      "OK\n",
      "Justin Bieber says religion ‘set me free from bondage and shame’\n",
      "OK\n",
      "‘Once Upon a Time’ Series Finale to Bring Back Jennifer Morrison, Ginnifer Goodwin\n",
      "OK\n",
      "The first trailer for the documentary \"Whitney\" reminds us that we will ALWAYS love the iconic singer\n",
      "OK\n",
      "Jennifer Lopez And Alex Rodriguez Headed For A Split? Inside Her Demands For A Ring\n",
      "OK\n"
     ]
    }
   ],
   "source": [
    "# Обработчики и запуск Flask\n",
    "app = Flask(__name__)\n",
    "# run_with_ngrok(app)  # Start ngrok when app is run\n",
    "\n",
    "\n",
    "@app.route(\"/\", methods=[\"GET\"])\n",
    "def general():\n",
    "    return \"Welcome to prediction process\"\n",
    "\n",
    "@app.route('/predict', methods=['POST'])\n",
    "def predict():\n",
    "    data = {\"success\": False}\n",
    "\n",
    "    # ensure an image was properly uploaded to our endpoint\n",
    "    title, news_url, source_domain = \"\", \"\", \"\"\n",
    "    request_json = request.get_json()\n",
    "    \n",
    "    if request_json[\"title\"]:\n",
    "        title = request_json['title']\n",
    "    \n",
    "    if request_json[\"news_url\"]:\n",
    "        news_url = request_json['news_url']\n",
    "                \n",
    "    if request_json[\"source_domain\"]:\n",
    "        benefits = request_json['source_domain']\n",
    "    \n",
    "    print(title)  \n",
    "    preds = model.predict_proba(pd.DataFrame({\"title\": [title],\n",
    "                                              \"news_url\": [news_url],\n",
    "                                              \"source_domain\": [source_domain]}))\n",
    "    data[\"predictions\"] = preds[:, 1][0]\n",
    "    data[\"title\"] = title\n",
    "        # indicate that the request was a success\n",
    "    data[\"success\"] = True\n",
    "    print('OK')\n",
    "\n",
    "        # return the data dictionary as a JSON response\n",
    "    return jsonify(data)\n",
    "\n",
    "\n",
    "if __name__ == '__main__':\n",
    "    app.run()"
   ]
  },
  {
   "cell_type": "code",
   "execution_count": null,
   "id": "8648e39a-0979-452a-9271-2a61577c3733",
   "metadata": {},
   "outputs": [],
   "source": [
    "N=50"
   ]
  },
  {
   "cell_type": "code",
   "execution_count": null,
   "id": "e2285ef4-a721-4f01-b190-eb811b97e377",
   "metadata": {},
   "outputs": [],
   "source": [
    "%%time\n",
    "predictions = X_test[\n",
    "                     ['title', 'news_url', 'source_domain']\n",
    "                     ].iloc[:N].apply(lambda x: response.get_json(), axis=1)"
   ]
  },
  {
   "cell_type": "code",
   "execution_count": null,
   "id": "81122d6f-ed70-4711-86a2-449b850d1231",
   "metadata": {},
   "outputs": [],
   "source": []
  }
 ],
 "metadata": {
  "kernelspec": {
   "display_name": "Python 3 (ipykernel)",
   "language": "python",
   "name": "python3"
  },
  "language_info": {
   "codemirror_mode": {
    "name": "ipython",
    "version": 3
   },
   "file_extension": ".py",
   "mimetype": "text/x-python",
   "name": "python",
   "nbconvert_exporter": "python",
   "pygments_lexer": "ipython3",
   "version": "3.8.13"
  }
 },
 "nbformat": 4,
 "nbformat_minor": 5
}

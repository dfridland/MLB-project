{
 "cells": [
  {
   "cell_type": "code",
   "execution_count": 1,
   "id": "7163b5ea-8ebd-45a4-87ba-1154fa81c211",
   "metadata": {},
   "outputs": [],
   "source": [
    "import requests\n",
    "\n",
    "import urllib.request\n",
    "import json"
   ]
  },
  {
   "cell_type": "code",
   "execution_count": 2,
   "id": "95401458-3555-4f7c-8b4e-e8be067854fa",
   "metadata": {},
   "outputs": [],
   "source": [
    "# формируем запрос\n",
    "def send_json(x):\n",
    "    title, news_url, source_domain = x\n",
    "    #print(description, company_profile, benefits)\n",
    "    body = {\n",
    "        'title': title, \n",
    "        'news_url': news_url,\n",
    "        'source_domain': source_domain\n",
    "        }\n",
    "    myurl = 'http://127.0.0.1:5000' + '/predict'\n",
    "    headers = {'content-type': 'application/json; charset=utf-8'}\n",
    "    response = requests.post(myurl, json=body, headers=headers)\n",
    "    return response.json()['predictions']"
   ]
  },
  {
   "cell_type": "code",
   "execution_count": 3,
   "id": "b38912f6-08f3-4a5d-94e5-3e6e362cec2b",
   "metadata": {},
   "outputs": [],
   "source": [
    "import pandas as pd\n",
    "from sklearn.metrics import roc_auc_score, roc_curve, precision_recall_curve\n",
    "from sklearn.metrics import f1_score\n",
    "from urllib import request, parse\n",
    "\n",
    "\n",
    "X_test = pd.read_csv(\"X_test.csv\")\n",
    "y_test = pd.read_csv(\"y_test.csv\")"
   ]
  },
  {
   "cell_type": "code",
   "execution_count": 4,
   "id": "962de4c8-0779-42b2-8c10-1442d74fa8c7",
   "metadata": {},
   "outputs": [],
   "source": [
    "response = send_json(X_test[['title', 'news_url', 'source_domain']].iloc[0,:])"
   ]
  },
  {
   "cell_type": "code",
   "execution_count": 5,
   "id": "b39c34ce-297c-488c-8a00-3ee267881170",
   "metadata": {},
   "outputs": [
    {
     "data": {
      "text/html": [
       "<div>\n",
       "<style scoped>\n",
       "    .dataframe tbody tr th:only-of-type {\n",
       "        vertical-align: middle;\n",
       "    }\n",
       "\n",
       "    .dataframe tbody tr th {\n",
       "        vertical-align: top;\n",
       "    }\n",
       "\n",
       "    .dataframe thead th {\n",
       "        text-align: right;\n",
       "    }\n",
       "</style>\n",
       "<table border=\"1\" class=\"dataframe\">\n",
       "  <thead>\n",
       "    <tr style=\"text-align: right;\">\n",
       "      <th></th>\n",
       "      <th>title</th>\n",
       "      <th>news_url</th>\n",
       "      <th>source_domain</th>\n",
       "    </tr>\n",
       "  </thead>\n",
       "  <tbody>\n",
       "    <tr>\n",
       "      <th>0</th>\n",
       "      <td>Will Stabler return to 'Law and Order: SVU' fo...</td>\n",
       "      <td>http://www.today.com/popculture/will-stabler-r...</td>\n",
       "      <td>www.today.com</td>\n",
       "    </tr>\n",
       "    <tr>\n",
       "      <th>1</th>\n",
       "      <td>Travis Barker Survives ‘Really Bad’ Crash with...</td>\n",
       "      <td>http://extratv.com/2018/07/16/travis-barker-su...</td>\n",
       "      <td>extratv.com</td>\n",
       "    </tr>\n",
       "    <tr>\n",
       "      <th>2</th>\n",
       "      <td>Iggy Azalea's Revenge on Nick Young: I Burned ...</td>\n",
       "      <td>https://www.nbclosangeles.com/entertainment/en...</td>\n",
       "      <td>www.nbclosangeles.com</td>\n",
       "    </tr>\n",
       "    <tr>\n",
       "      <th>3</th>\n",
       "      <td>We have reason to believe a new Justin Timberl...</td>\n",
       "      <td>https://www.businessinsider.com/new-justin-tim...</td>\n",
       "      <td>www.businessinsider.com</td>\n",
       "    </tr>\n",
       "    <tr>\n",
       "      <th>4</th>\n",
       "      <td>23 Times Blake Lively And Ryan Reynolds Trolle...</td>\n",
       "      <td>https://www.thethings.com/23-times-blake-livel...</td>\n",
       "      <td>www.thethings.com</td>\n",
       "    </tr>\n",
       "  </tbody>\n",
       "</table>\n",
       "</div>"
      ],
      "text/plain": [
       "                                               title  \\\n",
       "0  Will Stabler return to 'Law and Order: SVU' fo...   \n",
       "1  Travis Barker Survives ‘Really Bad’ Crash with...   \n",
       "2  Iggy Azalea's Revenge on Nick Young: I Burned ...   \n",
       "3  We have reason to believe a new Justin Timberl...   \n",
       "4  23 Times Blake Lively And Ryan Reynolds Trolle...   \n",
       "\n",
       "                                            news_url            source_domain  \n",
       "0  http://www.today.com/popculture/will-stabler-r...            www.today.com  \n",
       "1  http://extratv.com/2018/07/16/travis-barker-su...              extratv.com  \n",
       "2  https://www.nbclosangeles.com/entertainment/en...    www.nbclosangeles.com  \n",
       "3  https://www.businessinsider.com/new-justin-tim...  www.businessinsider.com  \n",
       "4  https://www.thethings.com/23-times-blake-livel...        www.thethings.com  "
      ]
     },
     "execution_count": 5,
     "metadata": {},
     "output_type": "execute_result"
    }
   ],
   "source": [
    "X_test[['title', 'news_url', 'source_domain']].head()"
   ]
  },
  {
   "cell_type": "code",
   "execution_count": 6,
   "id": "dc513bc6-b6fd-4ff0-8058-113795d0cab8",
   "metadata": {},
   "outputs": [],
   "source": [
    "N = 50"
   ]
  },
  {
   "cell_type": "code",
   "execution_count": 7,
   "id": "55b946c3-2aa2-4c94-a0f2-dad62b3d1c53",
   "metadata": {},
   "outputs": [
    {
     "name": "stdout",
     "output_type": "stream",
     "text": [
      "CPU times: user 124 ms, sys: 16.9 ms, total: 141 ms\n",
      "Wall time: 792 ms\n"
     ]
    }
   ],
   "source": [
    "%%time\n",
    "predictions = X_test[\n",
    "                     ['title', 'news_url', 'source_domain']\n",
    "                     ].iloc[:N].apply(lambda x: send_json(x), axis=1)"
   ]
  },
  {
   "cell_type": "code",
   "execution_count": 8,
   "id": "8572da87-555a-4b42-b65d-05aaca9fc99f",
   "metadata": {},
   "outputs": [
    {
     "data": {
      "text/plain": [
       "array([0.82154149, 0.78532679, 0.92242409, 0.94069802, 0.82895206,\n",
       "       0.81481431, 0.38245843, 0.80950709, 0.41064261, 0.99059687,\n",
       "       0.58326417, 0.18804468, 0.99999513, 0.12599475, 0.91003561,\n",
       "       0.98660939, 0.21826313, 0.95834966, 0.83829387, 0.05480536,\n",
       "       0.94577729, 0.79604885, 0.79791156, 0.90373259, 0.05499228,\n",
       "       0.93628242, 0.89091661, 0.93269312, 0.95243473, 0.27453822,\n",
       "       0.22547192, 0.8892775 , 0.67148152, 0.19110619, 0.27934033,\n",
       "       0.82808125, 0.08046054, 0.89090097, 0.10600513, 0.95565657,\n",
       "       0.95382373, 0.92884534, 0.8199658 , 0.24865493, 0.30922705,\n",
       "       0.91003432, 0.17036818, 0.90916805, 0.97391648, 0.20100895])"
      ]
     },
     "execution_count": 8,
     "metadata": {},
     "output_type": "execute_result"
    }
   ],
   "source": [
    "predictions.values[:50]"
   ]
  },
  {
   "cell_type": "code",
   "execution_count": null,
   "id": "7a954bbe-202a-4d2d-89bc-9e914eb63764",
   "metadata": {},
   "outputs": [],
   "source": []
  }
 ],
 "metadata": {
  "kernelspec": {
   "display_name": "Python 3 (ipykernel)",
   "language": "python",
   "name": "python3"
  },
  "language_info": {
   "codemirror_mode": {
    "name": "ipython",
    "version": 3
   },
   "file_extension": ".py",
   "mimetype": "text/x-python",
   "name": "python",
   "nbconvert_exporter": "python",
   "pygments_lexer": "ipython3",
   "version": "3.8.13"
  }
 },
 "nbformat": 4,
 "nbformat_minor": 5
}
